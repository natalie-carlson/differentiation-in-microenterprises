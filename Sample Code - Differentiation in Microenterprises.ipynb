{
 "cells": [
  {
   "cell_type": "markdown",
   "id": "540101b2",
   "metadata": {},
   "source": [
    "First, import packages needed to compute the differentiation scores:"
   ]
  },
  {
   "cell_type": "code",
   "execution_count": 4,
   "id": "c0955934",
   "metadata": {},
   "outputs": [],
   "source": [
    "# import packages\n",
    "import pandas as pd\n",
    "import numpy as np\n",
    "from scipy.spatial import distance\n",
    "from sklearn.feature_extraction.text import CountVectorizer\n",
    "from sentence_transformers import SentenceTransformer"
   ]
  },
  {
   "cell_type": "markdown",
   "id": "32da1d51",
   "metadata": {},
   "source": [
    "Using the Zimbabwe data (Carlson and Hager, 2021) as a example:"
   ]
  },
  {
   "cell_type": "code",
   "execution_count": 11,
   "id": "3a4f3232",
   "metadata": {},
   "outputs": [],
   "source": [
    "# read in data\n",
    "all_data = pd.read_csv('/Users/ncarlson/Dropbox/Dissertation/Essay 3/Differentiation in Microenterprises/Zimbabwe.csv')"
   ]
  },
  
  {
   "cell_type": "markdown",
   "id": "54b4d723",
   "metadata": {},
   "source": [
    "## Transformer Differentiation Measure"
   ]
  },
  {
   "cell_type": "code",
   "execution_count": 8,
   "id": "c8138a2f",
   "metadata": {},
   "outputs": [],
   "source": [
    "# transformer model\n",
    "model = SentenceTransformer('paraphrase-multilingual-mpnet-base-v2')\n",
    "# note: full list of models can be found at https://www.sbert.net/docs/pretrained_models.html\n",
    "\n",
    "# sentences are encoded by calling model.encode(): this converts each sentence to an embedding vector of length 768\n",
    "sentences = list(all_data['business_activity'])\n",
    "embeddings = model.encode(sentences)\n",
    "\n",
    "# cosine scores: this loops through and computes all pairwise cosine distance scores, then takes the mean\n",
    "cossim_scores = [0] * len(sentences)\n",
    "for i in range(0,len(sentences)):\n",
    "    cossim_score = [0] * len(sentences)\n",
    "    for j in range(0,len(sentences)):\n",
    "        cossim_score[j] = distance.cosine(embeddings[i], embeddings[j])\n",
    "    cossim_scores[i] = np.mean(cossim_score)\n",
    "\n",
    "# add final scores to data frame\n",
    "all_data['transformer_score'] = cossim_scores",
    "# standardized version",
"all_data['dissertation_score_std'] = (all_data['dissertation_score'] - all_data['dissertation_score'].mean()) / all_data['dissertation_score'].std()"
   ]
  },
  {
   "cell_type": "code",
   "execution_count": null,
   "id": "ab8183af",
   "metadata": {},
   "outputs": [],
   "source": []
  }
 ],
 "metadata": {
  "kernelspec": {
   "display_name": "Python 3",
   "language": "python",
   "name": "python3"
  },
  "language_info": {
   "codemirror_mode": {
    "name": "ipython",
    "version": 3
   },
   "file_extension": ".py",
   "mimetype": "text/x-python",
   "name": "python",
   "nbconvert_exporter": "python",
   "pygments_lexer": "ipython3",
   "version": "3.8.2"
  }
 },
 "nbformat": 4,
 "nbformat_minor": 5
}
